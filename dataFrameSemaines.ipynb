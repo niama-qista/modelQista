{
 "cells": [
  {
   "cell_type": "code",
   "execution_count": 1,
   "id": "4eff6899-3df6-4fa6-9141-3818d3834b46",
   "metadata": {},
   "outputs": [],
   "source": [
    "import pandas as pd"
   ]
  },
  {
   "cell_type": "code",
   "execution_count": 2,
   "id": "75bedab3-623a-4d22-abcf-0d5d457d40bf",
   "metadata": {},
   "outputs": [],
   "source": [
    "import datetime as dt"
   ]
  },
  {
   "cell_type": "code",
   "execution_count": 3,
   "id": "1757facc-193b-4430-b8ad-8ae1d91486fb",
   "metadata": {},
   "outputs": [],
   "source": [
    "import matplotlib.pyplot as plt\n",
    "import numpy as np"
   ]
  },
  {
   "cell_type": "code",
   "execution_count": 4,
   "id": "d6f81402-da22-4b53-82a8-5cdd2b75cc9d",
   "metadata": {},
   "outputs": [],
   "source": [
    "MousAqui20=pd.read_csv('Data/MousAqui20.csv')"
   ]
  },
  {
   "cell_type": "code",
   "execution_count": 5,
   "id": "e20f17e4-6513-4c9e-91c0-3ebee7459c65",
   "metadata": {},
   "outputs": [],
   "source": [
    "MousPACA20=pd.read_csv('Data/MousPACA20.csv')"
   ]
  },
  {
   "cell_type": "code",
   "execution_count": 6,
   "id": "2e9ee20e-e24d-462f-bd0d-024414368d3b",
   "metadata": {},
   "outputs": [],
   "source": [
    "MousIDF20=pd.read_csv('Data/MousIDF20.csv')"
   ]
  },
  {
   "cell_type": "code",
   "execution_count": 7,
   "id": "5f7d61b8-74c6-4aeb-a5e5-c383172d54dd",
   "metadata": {},
   "outputs": [],
   "source": [
    "MousRA20=pd.read_csv('Data/MousRA20.csv')"
   ]
  },
  {
   "cell_type": "code",
   "execution_count": 8,
   "id": "917926f5-de5b-48e6-8685-5e25d2e742c1",
   "metadata": {},
   "outputs": [],
   "source": [
    "MousOcci20=pd.read_csv('Data/MousOcci20.csv')"
   ]
  },
  {
   "cell_type": "code",
   "execution_count": 9,
   "id": "4ccc2bf2-8303-4f9a-b389-ace786e175b1",
   "metadata": {},
   "outputs": [],
   "source": [
    "Mous20=pd.merge(MousOcci20,MousIDF20, on='Semaine')"
   ]
  },
  {
   "cell_type": "code",
   "execution_count": 10,
   "id": "f8142fe3-093c-483a-94a3-a5b0ebf2e100",
   "metadata": {},
   "outputs": [],
   "source": [
    "Mous20=pd.merge(Mous20,MousPACA20, on='Semaine')"
   ]
  },
  {
   "cell_type": "code",
   "execution_count": 11,
   "id": "38d1aba0-41e0-4c2b-b534-771f9445f315",
   "metadata": {},
   "outputs": [],
   "source": [
    "Mous20=pd.merge(Mous20,MousRA20, on='Semaine')"
   ]
  },
  {
   "cell_type": "code",
   "execution_count": 12,
   "id": "cabfae9a-0a9b-409e-bb66-35f52e1a5aed",
   "metadata": {},
   "outputs": [],
   "source": [
    "Mous20=pd.merge(Mous20,MousAqui20, on='Semaine')"
   ]
  },
  {
   "cell_type": "code",
   "execution_count": 13,
   "id": "a1628c16-1778-415e-86f5-07505c5d766d",
   "metadata": {},
   "outputs": [
    {
     "data": {
      "text/html": [
       "<div>\n",
       "<style scoped>\n",
       "    .dataframe tbody tr th:only-of-type {\n",
       "        vertical-align: middle;\n",
       "    }\n",
       "\n",
       "    .dataframe tbody tr th {\n",
       "        vertical-align: top;\n",
       "    }\n",
       "\n",
       "    .dataframe thead th {\n",
       "        text-align: right;\n",
       "    }\n",
       "</style>\n",
       "<table border=\"1\" class=\"dataframe\">\n",
       "  <thead>\n",
       "    <tr style=\"text-align: right;\">\n",
       "      <th></th>\n",
       "      <th>Semaine</th>\n",
       "      <th>Occitanie</th>\n",
       "      <th>Ile-de-France</th>\n",
       "      <th>Provence-Alpes-Cote d'Azur</th>\n",
       "      <th>Rhone-Alpes</th>\n",
       "      <th>Aquitaine</th>\n",
       "    </tr>\n",
       "  </thead>\n",
       "  <tbody>\n",
       "    <tr>\n",
       "      <th>0</th>\n",
       "      <td>2020-01-05</td>\n",
       "      <td>0</td>\n",
       "      <td>9</td>\n",
       "      <td>6</td>\n",
       "      <td>0</td>\n",
       "      <td>0</td>\n",
       "    </tr>\n",
       "    <tr>\n",
       "      <th>1</th>\n",
       "      <td>2020-01-12</td>\n",
       "      <td>0</td>\n",
       "      <td>12</td>\n",
       "      <td>16</td>\n",
       "      <td>3</td>\n",
       "      <td>4</td>\n",
       "    </tr>\n",
       "    <tr>\n",
       "      <th>2</th>\n",
       "      <td>2020-01-19</td>\n",
       "      <td>7</td>\n",
       "      <td>13</td>\n",
       "      <td>0</td>\n",
       "      <td>0</td>\n",
       "      <td>0</td>\n",
       "    </tr>\n",
       "    <tr>\n",
       "      <th>3</th>\n",
       "      <td>2020-01-26</td>\n",
       "      <td>0</td>\n",
       "      <td>9</td>\n",
       "      <td>0</td>\n",
       "      <td>7</td>\n",
       "      <td>9</td>\n",
       "    </tr>\n",
       "    <tr>\n",
       "      <th>4</th>\n",
       "      <td>2020-02-02</td>\n",
       "      <td>7</td>\n",
       "      <td>9</td>\n",
       "      <td>6</td>\n",
       "      <td>3</td>\n",
       "      <td>0</td>\n",
       "    </tr>\n",
       "    <tr>\n",
       "      <th>...</th>\n",
       "      <td>...</td>\n",
       "      <td>...</td>\n",
       "      <td>...</td>\n",
       "      <td>...</td>\n",
       "      <td>...</td>\n",
       "      <td>...</td>\n",
       "    </tr>\n",
       "    <tr>\n",
       "      <th>99</th>\n",
       "      <td>2021-11-28</td>\n",
       "      <td>0</td>\n",
       "      <td>2</td>\n",
       "      <td>8</td>\n",
       "      <td>2</td>\n",
       "      <td>0</td>\n",
       "    </tr>\n",
       "    <tr>\n",
       "      <th>100</th>\n",
       "      <td>2021-12-05</td>\n",
       "      <td>7</td>\n",
       "      <td>9</td>\n",
       "      <td>4</td>\n",
       "      <td>0</td>\n",
       "      <td>0</td>\n",
       "    </tr>\n",
       "    <tr>\n",
       "      <th>101</th>\n",
       "      <td>2021-12-12</td>\n",
       "      <td>8</td>\n",
       "      <td>2</td>\n",
       "      <td>0</td>\n",
       "      <td>2</td>\n",
       "      <td>7</td>\n",
       "    </tr>\n",
       "    <tr>\n",
       "      <th>102</th>\n",
       "      <td>2021-12-19</td>\n",
       "      <td>9</td>\n",
       "      <td>3</td>\n",
       "      <td>0</td>\n",
       "      <td>0</td>\n",
       "      <td>0</td>\n",
       "    </tr>\n",
       "    <tr>\n",
       "      <th>103</th>\n",
       "      <td>2021-12-26</td>\n",
       "      <td>0</td>\n",
       "      <td>6</td>\n",
       "      <td>5</td>\n",
       "      <td>5</td>\n",
       "      <td>0</td>\n",
       "    </tr>\n",
       "  </tbody>\n",
       "</table>\n",
       "<p>104 rows × 6 columns</p>\n",
       "</div>"
      ],
      "text/plain": [
       "        Semaine  Occitanie  Ile-de-France  Provence-Alpes-Cote d'Azur  \\\n",
       "0    2020-01-05          0              9                           6   \n",
       "1    2020-01-12          0             12                          16   \n",
       "2    2020-01-19          7             13                           0   \n",
       "3    2020-01-26          0              9                           0   \n",
       "4    2020-02-02          7              9                           6   \n",
       "..          ...        ...            ...                         ...   \n",
       "99   2021-11-28          0              2                           8   \n",
       "100  2021-12-05          7              9                           4   \n",
       "101  2021-12-12          8              2                           0   \n",
       "102  2021-12-19          9              3                           0   \n",
       "103  2021-12-26          0              6                           5   \n",
       "\n",
       "     Rhone-Alpes  Aquitaine  \n",
       "0              0          0  \n",
       "1              3          4  \n",
       "2              0          0  \n",
       "3              7          9  \n",
       "4              3          0  \n",
       "..           ...        ...  \n",
       "99             2          0  \n",
       "100            0          0  \n",
       "101            2          7  \n",
       "102            0          0  \n",
       "103            5          0  \n",
       "\n",
       "[104 rows x 6 columns]"
      ]
     },
     "execution_count": 13,
     "metadata": {},
     "output_type": "execute_result"
    }
   ],
   "source": [
    "Mous20"
   ]
  },
  {
   "cell_type": "code",
   "execution_count": 14,
   "id": "886f22ed-2e6d-4e62-95fc-f1494c7146bd",
   "metadata": {},
   "outputs": [
    {
     "data": {
      "text/plain": [
       "Index(['Semaine', 'Occitanie', 'Ile-de-France', 'Provence-Alpes-Cote d'Azur',\n",
       "       'Rhone-Alpes', 'Aquitaine'],\n",
       "      dtype='object')"
      ]
     },
     "execution_count": 14,
     "metadata": {},
     "output_type": "execute_result"
    }
   ],
   "source": [
    "Mous20.columns"
   ]
  },
  {
   "cell_type": "code",
   "execution_count": 15,
   "id": "442741c6-4002-4148-bd89-ddf628d3c965",
   "metadata": {},
   "outputs": [
    {
     "data": {
      "text/plain": [
       "0     2020-01-05\n",
       "1     2020-01-12\n",
       "2     2020-01-19\n",
       "3     2020-01-26\n",
       "4     2020-02-02\n",
       "         ...    \n",
       "99    2021-11-28\n",
       "100   2021-12-05\n",
       "101   2021-12-12\n",
       "102   2021-12-19\n",
       "103   2021-12-26\n",
       "Name: Date, Length: 104, dtype: datetime64[ns]"
      ]
     },
     "execution_count": 15,
     "metadata": {},
     "output_type": "execute_result"
    }
   ],
   "source": [
    "Mous20.rename(columns={'Semaine':'Date'}, inplace=True)\n",
    "Mous20['Date'].apply(lambda x: x.replace('-',' ').replace(' ',' ')).astype('datetime64')"
   ]
  },
  {
   "cell_type": "code",
   "execution_count": 16,
   "id": "c6cb155e-a457-4a1a-b12e-f00fbfdc421b",
   "metadata": {},
   "outputs": [],
   "source": [
    "#MousPACA21=pd.read_csv('Data/MousPACA21.csv')"
   ]
  },
  {
   "cell_type": "code",
   "execution_count": 17,
   "id": "834a1ebe-f3c6-49b3-b95b-c7929efe1ae7",
   "metadata": {},
   "outputs": [],
   "source": [
    "#MousIDF21=pd.read_csv('Data/MousIDF21.csv')"
   ]
  },
  {
   "cell_type": "code",
   "execution_count": 18,
   "id": "1ebeb3cd-8705-4b97-83f4-ace3d4a90cc4",
   "metadata": {},
   "outputs": [],
   "source": [
    "#MousRA21=pd.read_csv('Data/Moustiques21RA.csv')"
   ]
  },
  {
   "cell_type": "code",
   "execution_count": 19,
   "id": "a46ed63b-b563-4ae6-8649-957fe288fbee",
   "metadata": {},
   "outputs": [],
   "source": [
    "#MousAqui21=pd.read_csv('Data/MousAqui21.csv')"
   ]
  },
  {
   "cell_type": "code",
   "execution_count": 20,
   "id": "d5c28f64-0fba-493c-98be-2151bfbe9391",
   "metadata": {},
   "outputs": [],
   "source": [
    "#MousOcci21=pd.read_csv('Data/MousOcci21.csv')"
   ]
  },
  {
   "cell_type": "code",
   "execution_count": 21,
   "id": "b44fe96a-360c-4b4c-97de-96a63e1e70e6",
   "metadata": {},
   "outputs": [],
   "source": [
    "#Mous21=pd.merge(MousPACA21,MousIDF21, on='Semaine')"
   ]
  },
  {
   "cell_type": "code",
   "execution_count": 22,
   "id": "69eb3aa8-0b86-4458-860e-378a7d196978",
   "metadata": {},
   "outputs": [],
   "source": [
    "#Mous21=pd.merge(Mous21,MousOcci21, on='Semaine')"
   ]
  },
  {
   "cell_type": "code",
   "execution_count": 23,
   "id": "0f554fa6-13f4-4bb1-8e09-48665a55c7a6",
   "metadata": {},
   "outputs": [],
   "source": [
    "#Mous21=pd.merge(Mous21,MousRA21, on='Semaine')"
   ]
  },
  {
   "cell_type": "code",
   "execution_count": 24,
   "id": "1e3d5a6f-9398-483a-a28c-6e6f2e12c88b",
   "metadata": {},
   "outputs": [],
   "source": [
    "#Mous21=pd.merge(Mous21,MousAqui21, on='Semaine')"
   ]
  },
  {
   "cell_type": "code",
   "execution_count": 25,
   "id": "700ad636-729e-4c34-a825-fdb2589c06d5",
   "metadata": {},
   "outputs": [],
   "source": [
    "#Mous20.rename(columns={'Semaine':'Date'}, inplace=True)\n",
    "#Mous20['Date'].apply(lambda x: x.replace('-',' ').replace(' ',' ')).astype('datetime64')"
   ]
  },
  {
   "cell_type": "code",
   "execution_count": 26,
   "id": "eb4c7bd9-a7dc-40a5-bea0-1a1b32ca6965",
   "metadata": {},
   "outputs": [],
   "source": [
    "#Moustiques"
   ]
  },
  {
   "cell_type": "code",
   "execution_count": 27,
   "id": "07dce508-f4dc-46d9-996e-77e46561ba30",
   "metadata": {},
   "outputs": [],
   "source": [
    "QistaAqui20=pd.read_csv('Data/QistaAqui20.csv')"
   ]
  },
  {
   "cell_type": "code",
   "execution_count": 28,
   "id": "80f6bb0f-4caf-44a1-8677-d186a47f319e",
   "metadata": {},
   "outputs": [],
   "source": [
    "QistaOcci20=pd.read_csv('Data/QistaOcci20.csv')"
   ]
  },
  {
   "cell_type": "code",
   "execution_count": 29,
   "id": "039924c6-138c-4f8c-952e-7e21b1d84bcd",
   "metadata": {},
   "outputs": [],
   "source": [
    "QistaPACA20=pd.read_csv('Data/QistaPACA20.csv')"
   ]
  },
  {
   "cell_type": "code",
   "execution_count": 30,
   "id": "0193e369-832c-4586-81b2-115e30fe7b36",
   "metadata": {},
   "outputs": [],
   "source": [
    "QistaIDF20=pd.read_csv('Data/QistaIDF20.csv')"
   ]
  },
  {
   "cell_type": "code",
   "execution_count": 31,
   "id": "0d4574d1-d2a7-4503-878f-797edd0ef1d4",
   "metadata": {},
   "outputs": [],
   "source": [
    "QistaRA20=pd.read_csv('Data/QistaRA20.csv')"
   ]
  },
  {
   "cell_type": "code",
   "execution_count": 32,
   "id": "2e760e6f-a904-4c8c-9a68-fc24ebd597d1",
   "metadata": {},
   "outputs": [],
   "source": [
    "Qista20=pd.merge(QistaAqui20,QistaOcci20, on='Semaine')"
   ]
  },
  {
   "cell_type": "code",
   "execution_count": 33,
   "id": "9e43ea1c-38ec-4418-9282-062591424a70",
   "metadata": {},
   "outputs": [],
   "source": [
    "Qista20=pd.merge(Qista20,QistaPACA20, on='Semaine')"
   ]
  },
  {
   "cell_type": "code",
   "execution_count": 34,
   "id": "cfe9b73a-4b68-4274-8759-70659072d325",
   "metadata": {},
   "outputs": [],
   "source": [
    "Qista20=pd.merge(Qista20,QistaIDF20, on='Semaine')"
   ]
  },
  {
   "cell_type": "code",
   "execution_count": 35,
   "id": "c4b0c51f-42c3-4838-ab91-e48ad22a450d",
   "metadata": {},
   "outputs": [],
   "source": [
    "Qista20=pd.merge(Qista20,QistaRA20, on='Semaine')"
   ]
  },
  {
   "cell_type": "code",
   "execution_count": 36,
   "id": "f03995f8-09c8-4973-a51c-6a23697f4df9",
   "metadata": {},
   "outputs": [
    {
     "data": {
      "text/plain": [
       "Index(['Date', 'Aquitaine', 'Occitanie', 'Provence-Alpes-Cote d'Azur',\n",
       "       'Ile-de-France', 'Rhone-Alpes'],\n",
       "      dtype='object')"
      ]
     },
     "execution_count": 36,
     "metadata": {},
     "output_type": "execute_result"
    }
   ],
   "source": [
    "Qista20.rename(columns={'Semaine': 'Date'}, inplace=True)\n",
    "Qista20.columns"
   ]
  },
  {
   "cell_type": "code",
   "execution_count": 37,
   "id": "19cd9c51-48c9-4cfe-8fbe-d3e88d918c55",
   "metadata": {},
   "outputs": [
    {
     "data": {
      "text/plain": [
       "0     2020-01-05\n",
       "1     2020-01-12\n",
       "2     2020-01-19\n",
       "3     2020-01-26\n",
       "4     2020-02-02\n",
       "         ...    \n",
       "99    2021-11-28\n",
       "100   2021-12-05\n",
       "101   2021-12-12\n",
       "102   2021-12-19\n",
       "103   2021-12-26\n",
       "Name: Date, Length: 104, dtype: datetime64[ns]"
      ]
     },
     "execution_count": 37,
     "metadata": {},
     "output_type": "execute_result"
    }
   ],
   "source": [
    "Qista20['Date'].apply(lambda x: x.replace('-',' ').replace(' ',' ')).astype('datetime64')"
   ]
  },
  {
   "cell_type": "code",
   "execution_count": 38,
   "id": "b10108ae-bc9b-4861-b2c8-ccf697869e13",
   "metadata": {},
   "outputs": [],
   "source": [
    "RevMoy=pd.read_csv('Data/RevenuMoyen.csv')\n",
    "#Mous20"
   ]
  },
  {
   "cell_type": "code",
   "execution_count": 39,
   "id": "db0ab213-57b0-47e4-99af-553c62d1ca6f",
   "metadata": {},
   "outputs": [
    {
     "data": {
      "text/html": [
       "<div>\n",
       "<style scoped>\n",
       "    .dataframe tbody tr th:only-of-type {\n",
       "        vertical-align: middle;\n",
       "    }\n",
       "\n",
       "    .dataframe tbody tr th {\n",
       "        vertical-align: top;\n",
       "    }\n",
       "\n",
       "    .dataframe thead th {\n",
       "        text-align: right;\n",
       "    }\n",
       "</style>\n",
       "<table border=\"1\" class=\"dataframe\">\n",
       "  <thead>\n",
       "    <tr style=\"text-align: right;\">\n",
       "      <th></th>\n",
       "      <th>Date</th>\n",
       "      <th>Region</th>\n",
       "      <th>occurrence du mot Moustique</th>\n",
       "    </tr>\n",
       "  </thead>\n",
       "  <tbody>\n",
       "    <tr>\n",
       "      <th>0</th>\n",
       "      <td>2020-01-05</td>\n",
       "      <td>Occitanie</td>\n",
       "      <td>0</td>\n",
       "    </tr>\n",
       "    <tr>\n",
       "      <th>1</th>\n",
       "      <td>2020-01-12</td>\n",
       "      <td>Occitanie</td>\n",
       "      <td>0</td>\n",
       "    </tr>\n",
       "    <tr>\n",
       "      <th>2</th>\n",
       "      <td>2020-01-19</td>\n",
       "      <td>Occitanie</td>\n",
       "      <td>7</td>\n",
       "    </tr>\n",
       "    <tr>\n",
       "      <th>3</th>\n",
       "      <td>2020-01-26</td>\n",
       "      <td>Occitanie</td>\n",
       "      <td>0</td>\n",
       "    </tr>\n",
       "    <tr>\n",
       "      <th>4</th>\n",
       "      <td>2020-02-02</td>\n",
       "      <td>Occitanie</td>\n",
       "      <td>7</td>\n",
       "    </tr>\n",
       "    <tr>\n",
       "      <th>...</th>\n",
       "      <td>...</td>\n",
       "      <td>...</td>\n",
       "      <td>...</td>\n",
       "    </tr>\n",
       "    <tr>\n",
       "      <th>515</th>\n",
       "      <td>2021-11-28</td>\n",
       "      <td>Aquitaine</td>\n",
       "      <td>0</td>\n",
       "    </tr>\n",
       "    <tr>\n",
       "      <th>516</th>\n",
       "      <td>2021-12-05</td>\n",
       "      <td>Aquitaine</td>\n",
       "      <td>0</td>\n",
       "    </tr>\n",
       "    <tr>\n",
       "      <th>517</th>\n",
       "      <td>2021-12-12</td>\n",
       "      <td>Aquitaine</td>\n",
       "      <td>7</td>\n",
       "    </tr>\n",
       "    <tr>\n",
       "      <th>518</th>\n",
       "      <td>2021-12-19</td>\n",
       "      <td>Aquitaine</td>\n",
       "      <td>0</td>\n",
       "    </tr>\n",
       "    <tr>\n",
       "      <th>519</th>\n",
       "      <td>2021-12-26</td>\n",
       "      <td>Aquitaine</td>\n",
       "      <td>0</td>\n",
       "    </tr>\n",
       "  </tbody>\n",
       "</table>\n",
       "<p>520 rows × 3 columns</p>\n",
       "</div>"
      ],
      "text/plain": [
       "           Date     Region  occurrence du mot Moustique\n",
       "0    2020-01-05  Occitanie                            0\n",
       "1    2020-01-12  Occitanie                            0\n",
       "2    2020-01-19  Occitanie                            7\n",
       "3    2020-01-26  Occitanie                            0\n",
       "4    2020-02-02  Occitanie                            7\n",
       "..          ...        ...                          ...\n",
       "515  2021-11-28  Aquitaine                            0\n",
       "516  2021-12-05  Aquitaine                            0\n",
       "517  2021-12-12  Aquitaine                            7\n",
       "518  2021-12-19  Aquitaine                            0\n",
       "519  2021-12-26  Aquitaine                            0\n",
       "\n",
       "[520 rows x 3 columns]"
      ]
     },
     "execution_count": 39,
     "metadata": {},
     "output_type": "execute_result"
    }
   ],
   "source": [
    "#datamoustiques = Mous20.reset_index()\n",
    "Mous20 = Mous20.melt(id_vars=[\"Date\"],\n",
    "               var_name=\"Region\",\n",
    "              value_name=\"occurrence du mot Moustique\")\n",
    "Mous20"
   ]
  },
  {
   "cell_type": "code",
   "execution_count": 40,
   "id": "9d801f5c-6bbb-4815-8801-2a869029455d",
   "metadata": {},
   "outputs": [],
   "source": [
    "#Mous21.rename(columns={'Semaine': 'Date'}, inplace=True)\n",
    "#Mous21 = Mous21.melt(id_vars=[\"Date\"],\n",
    "               #var_name=\"Region\",\n",
    "              #value_name=\"occurrence du mot Moustique\")"
   ]
  },
  {
   "cell_type": "code",
   "execution_count": 41,
   "id": "12cf1464-6b0f-45fd-a807-37da2126de63",
   "metadata": {},
   "outputs": [],
   "source": [
    "#Moustiques=pd.merge(Mous20, Mous21, on=\"Region\")\n",
    "#Moustiques"
   ]
  },
  {
   "cell_type": "code",
   "execution_count": 42,
   "id": "04cf7573-8716-4beb-826d-8d7f8d2c75b7",
   "metadata": {},
   "outputs": [],
   "source": [
    "Qista20 = Qista20.melt(id_vars=[\"Date\"],\n",
    "               var_name=\"Region\",\n",
    "              value_name=\"occurrence du mot Qista\")"
   ]
  },
  {
   "cell_type": "code",
   "execution_count": 43,
   "id": "be6fa8ca-152b-46f5-baf2-b0319289df60",
   "metadata": {},
   "outputs": [
    {
     "data": {
      "text/html": [
       "<div>\n",
       "<style scoped>\n",
       "    .dataframe tbody tr th:only-of-type {\n",
       "        vertical-align: middle;\n",
       "    }\n",
       "\n",
       "    .dataframe tbody tr th {\n",
       "        vertical-align: top;\n",
       "    }\n",
       "\n",
       "    .dataframe thead th {\n",
       "        text-align: right;\n",
       "    }\n",
       "</style>\n",
       "<table border=\"1\" class=\"dataframe\">\n",
       "  <thead>\n",
       "    <tr style=\"text-align: right;\">\n",
       "      <th></th>\n",
       "      <th>Date</th>\n",
       "      <th>Region</th>\n",
       "      <th>occurrence du mot Qista</th>\n",
       "    </tr>\n",
       "  </thead>\n",
       "  <tbody>\n",
       "    <tr>\n",
       "      <th>0</th>\n",
       "      <td>2020-01-05</td>\n",
       "      <td>Aquitaine</td>\n",
       "      <td>0</td>\n",
       "    </tr>\n",
       "    <tr>\n",
       "      <th>1</th>\n",
       "      <td>2020-01-12</td>\n",
       "      <td>Aquitaine</td>\n",
       "      <td>0</td>\n",
       "    </tr>\n",
       "    <tr>\n",
       "      <th>2</th>\n",
       "      <td>2020-01-19</td>\n",
       "      <td>Aquitaine</td>\n",
       "      <td>0</td>\n",
       "    </tr>\n",
       "    <tr>\n",
       "      <th>3</th>\n",
       "      <td>2020-01-26</td>\n",
       "      <td>Aquitaine</td>\n",
       "      <td>0</td>\n",
       "    </tr>\n",
       "    <tr>\n",
       "      <th>4</th>\n",
       "      <td>2020-02-02</td>\n",
       "      <td>Aquitaine</td>\n",
       "      <td>0</td>\n",
       "    </tr>\n",
       "    <tr>\n",
       "      <th>...</th>\n",
       "      <td>...</td>\n",
       "      <td>...</td>\n",
       "      <td>...</td>\n",
       "    </tr>\n",
       "    <tr>\n",
       "      <th>515</th>\n",
       "      <td>2021-11-28</td>\n",
       "      <td>Rhone-Alpes</td>\n",
       "      <td>0</td>\n",
       "    </tr>\n",
       "    <tr>\n",
       "      <th>516</th>\n",
       "      <td>2021-12-05</td>\n",
       "      <td>Rhone-Alpes</td>\n",
       "      <td>0</td>\n",
       "    </tr>\n",
       "    <tr>\n",
       "      <th>517</th>\n",
       "      <td>2021-12-12</td>\n",
       "      <td>Rhone-Alpes</td>\n",
       "      <td>0</td>\n",
       "    </tr>\n",
       "    <tr>\n",
       "      <th>518</th>\n",
       "      <td>2021-12-19</td>\n",
       "      <td>Rhone-Alpes</td>\n",
       "      <td>27</td>\n",
       "    </tr>\n",
       "    <tr>\n",
       "      <th>519</th>\n",
       "      <td>2021-12-26</td>\n",
       "      <td>Rhone-Alpes</td>\n",
       "      <td>0</td>\n",
       "    </tr>\n",
       "  </tbody>\n",
       "</table>\n",
       "<p>520 rows × 3 columns</p>\n",
       "</div>"
      ],
      "text/plain": [
       "           Date       Region  occurrence du mot Qista\n",
       "0    2020-01-05    Aquitaine                        0\n",
       "1    2020-01-12    Aquitaine                        0\n",
       "2    2020-01-19    Aquitaine                        0\n",
       "3    2020-01-26    Aquitaine                        0\n",
       "4    2020-02-02    Aquitaine                        0\n",
       "..          ...          ...                      ...\n",
       "515  2021-11-28  Rhone-Alpes                        0\n",
       "516  2021-12-05  Rhone-Alpes                        0\n",
       "517  2021-12-12  Rhone-Alpes                        0\n",
       "518  2021-12-19  Rhone-Alpes                       27\n",
       "519  2021-12-26  Rhone-Alpes                        0\n",
       "\n",
       "[520 rows x 3 columns]"
      ]
     },
     "execution_count": 43,
     "metadata": {},
     "output_type": "execute_result"
    }
   ],
   "source": [
    "Qista20"
   ]
  },
  {
   "cell_type": "code",
   "execution_count": 44,
   "id": "f0f1620a-adaa-4093-977e-5494c2ef5164",
   "metadata": {
    "tags": []
   },
   "outputs": [],
   "source": [
    "#QistaPACA21=pd.read_csv('Data/QistaPACA21.csv')"
   ]
  },
  {
   "cell_type": "code",
   "execution_count": 45,
   "id": "83c9fde6-5e72-4895-9400-8f9144a69a46",
   "metadata": {},
   "outputs": [],
   "source": [
    "#QistaIDF21=pd.read_csv('Data/QistaIDF21.csv')"
   ]
  },
  {
   "cell_type": "code",
   "execution_count": 46,
   "id": "1c8a685e-a893-4696-a06b-e719782cdc0a",
   "metadata": {},
   "outputs": [],
   "source": [
    "#QistaOcci21=pd.read_csv('Data/QistaOccitanie21.csv')"
   ]
  },
  {
   "cell_type": "code",
   "execution_count": 47,
   "id": "7a0b23cf-c9f5-4dc8-8a79-db38d656918b",
   "metadata": {},
   "outputs": [],
   "source": [
    "#QistaAqui21=pd.read_csv('Data/QistaAquitaine21.csv')"
   ]
  },
  {
   "cell_type": "code",
   "execution_count": 48,
   "id": "04c36457-34d3-486e-9cfa-ae4c49010383",
   "metadata": {},
   "outputs": [],
   "source": [
    "#QistaRA21=pd.read_csv('Data/QistaRA21.csv')"
   ]
  },
  {
   "cell_type": "code",
   "execution_count": 49,
   "id": "e514e240-80c9-474e-b626-bd6077131899",
   "metadata": {},
   "outputs": [],
   "source": [
    "#Qista21=pd.merge(QistaRA21,QistaAqui21, on='Semaine')"
   ]
  },
  {
   "cell_type": "code",
   "execution_count": 50,
   "id": "e7635b40-6eaa-4323-9df8-0fc405646979",
   "metadata": {},
   "outputs": [],
   "source": [
    "#Qista21=pd.merge(Qista21, QistaOcci21, on='Semaine')"
   ]
  },
  {
   "cell_type": "code",
   "execution_count": 51,
   "id": "4382837d-d1ef-4713-bd5c-59e657449c3e",
   "metadata": {},
   "outputs": [],
   "source": [
    "#Qista21=pd.merge(Qista21,QistaIDF21, on='Semaine')"
   ]
  },
  {
   "cell_type": "code",
   "execution_count": 52,
   "id": "e474d5bb-3c7f-4741-b567-e908e2d51802",
   "metadata": {},
   "outputs": [],
   "source": [
    "#Qista21=pd.merge(Qista21,QistaPACA21, on='Semaine')"
   ]
  },
  {
   "cell_type": "code",
   "execution_count": 53,
   "id": "0d2237cc-7ecc-4745-8912-1f54c2152ca6",
   "metadata": {},
   "outputs": [],
   "source": [
    "#Qista21.rename(columns={'Semaine':'Date'}, inplace=True)"
   ]
  },
  {
   "cell_type": "code",
   "execution_count": 54,
   "id": "3aca4f0b-5a9e-47d6-8501-99e86eb8f900",
   "metadata": {},
   "outputs": [],
   "source": [
    "#Qista21['Date'].apply(lambda x: x.replace('-',' ').replace(' ',' ')).astype('datetime64')"
   ]
  },
  {
   "cell_type": "code",
   "execution_count": 55,
   "id": "dc1ef08c-d6d4-4a8d-b6bd-4d8af93270b6",
   "metadata": {},
   "outputs": [],
   "source": [
    "#Qista21 = Qista21.melt(id_vars=[\"Date\"],\n",
    "               #var_name=\"Region\",\n",
    "              #value_name=\"occurrence du mot Qista 21\")"
   ]
  },
  {
   "cell_type": "code",
   "execution_count": 56,
   "id": "a12dd786-e51c-43b4-b254-c1a794a6efc7",
   "metadata": {},
   "outputs": [],
   "source": [
    "#Qista21"
   ]
  },
  {
   "cell_type": "code",
   "execution_count": 57,
   "id": "2994e21b-a0ae-4e94-97e5-e389761c8653",
   "metadata": {},
   "outputs": [],
   "source": [
    "#DF=pd.merge(Qista21, Mous21, on=['Region','Date'])"
   ]
  },
  {
   "cell_type": "code",
   "execution_count": 58,
   "id": "d129f5c7-4767-45a6-84a5-febe9252bbab",
   "metadata": {},
   "outputs": [],
   "source": [
    "DF2=pd.merge(Qista20, Mous20, on=['Region','Date'])"
   ]
  },
  {
   "cell_type": "code",
   "execution_count": 59,
   "id": "cfb64db2-42eb-4be1-8ba0-cce81108274d",
   "metadata": {},
   "outputs": [],
   "source": [
    "#DF3=pd.concat([DF,DF2])"
   ]
  },
  {
   "cell_type": "code",
   "execution_count": 60,
   "id": "9f985191-617f-4fad-b848-8b269a1d20a2",
   "metadata": {},
   "outputs": [],
   "source": [
    "DF3=pd.merge(DF2,RevMoy, on='Region')"
   ]
  },
  {
   "cell_type": "code",
   "execution_count": 61,
   "id": "24f5847e-e453-48fe-b1b6-2856f32853f3",
   "metadata": {},
   "outputs": [
    {
     "data": {
      "text/html": [
       "<div>\n",
       "<style scoped>\n",
       "    .dataframe tbody tr th:only-of-type {\n",
       "        vertical-align: middle;\n",
       "    }\n",
       "\n",
       "    .dataframe tbody tr th {\n",
       "        vertical-align: top;\n",
       "    }\n",
       "\n",
       "    .dataframe thead th {\n",
       "        text-align: right;\n",
       "    }\n",
       "</style>\n",
       "<table border=\"1\" class=\"dataframe\">\n",
       "  <thead>\n",
       "    <tr style=\"text-align: right;\">\n",
       "      <th></th>\n",
       "      <th>Date</th>\n",
       "      <th>Region</th>\n",
       "      <th>occurrence du mot Qista</th>\n",
       "      <th>occurrence du mot Moustique</th>\n",
       "      <th>Revenu Moyen</th>\n",
       "    </tr>\n",
       "  </thead>\n",
       "  <tbody>\n",
       "    <tr>\n",
       "      <th>0</th>\n",
       "      <td>2020-01-05</td>\n",
       "      <td>Aquitaine</td>\n",
       "      <td>0</td>\n",
       "      <td>0</td>\n",
       "      <td>2134</td>\n",
       "    </tr>\n",
       "    <tr>\n",
       "      <th>1</th>\n",
       "      <td>2020-01-12</td>\n",
       "      <td>Aquitaine</td>\n",
       "      <td>0</td>\n",
       "      <td>4</td>\n",
       "      <td>2134</td>\n",
       "    </tr>\n",
       "    <tr>\n",
       "      <th>2</th>\n",
       "      <td>2020-01-19</td>\n",
       "      <td>Aquitaine</td>\n",
       "      <td>0</td>\n",
       "      <td>0</td>\n",
       "      <td>2134</td>\n",
       "    </tr>\n",
       "    <tr>\n",
       "      <th>3</th>\n",
       "      <td>2020-01-26</td>\n",
       "      <td>Aquitaine</td>\n",
       "      <td>0</td>\n",
       "      <td>9</td>\n",
       "      <td>2134</td>\n",
       "    </tr>\n",
       "    <tr>\n",
       "      <th>4</th>\n",
       "      <td>2020-02-02</td>\n",
       "      <td>Aquitaine</td>\n",
       "      <td>0</td>\n",
       "      <td>0</td>\n",
       "      <td>2134</td>\n",
       "    </tr>\n",
       "    <tr>\n",
       "      <th>...</th>\n",
       "      <td>...</td>\n",
       "      <td>...</td>\n",
       "      <td>...</td>\n",
       "      <td>...</td>\n",
       "      <td>...</td>\n",
       "    </tr>\n",
       "    <tr>\n",
       "      <th>515</th>\n",
       "      <td>2021-11-28</td>\n",
       "      <td>Rhone-Alpes</td>\n",
       "      <td>0</td>\n",
       "      <td>2</td>\n",
       "      <td>2606</td>\n",
       "    </tr>\n",
       "    <tr>\n",
       "      <th>516</th>\n",
       "      <td>2021-12-05</td>\n",
       "      <td>Rhone-Alpes</td>\n",
       "      <td>0</td>\n",
       "      <td>0</td>\n",
       "      <td>2606</td>\n",
       "    </tr>\n",
       "    <tr>\n",
       "      <th>517</th>\n",
       "      <td>2021-12-12</td>\n",
       "      <td>Rhone-Alpes</td>\n",
       "      <td>0</td>\n",
       "      <td>2</td>\n",
       "      <td>2606</td>\n",
       "    </tr>\n",
       "    <tr>\n",
       "      <th>518</th>\n",
       "      <td>2021-12-19</td>\n",
       "      <td>Rhone-Alpes</td>\n",
       "      <td>27</td>\n",
       "      <td>0</td>\n",
       "      <td>2606</td>\n",
       "    </tr>\n",
       "    <tr>\n",
       "      <th>519</th>\n",
       "      <td>2021-12-26</td>\n",
       "      <td>Rhone-Alpes</td>\n",
       "      <td>0</td>\n",
       "      <td>5</td>\n",
       "      <td>2606</td>\n",
       "    </tr>\n",
       "  </tbody>\n",
       "</table>\n",
       "<p>520 rows × 5 columns</p>\n",
       "</div>"
      ],
      "text/plain": [
       "           Date       Region  occurrence du mot Qista  \\\n",
       "0    2020-01-05    Aquitaine                        0   \n",
       "1    2020-01-12    Aquitaine                        0   \n",
       "2    2020-01-19    Aquitaine                        0   \n",
       "3    2020-01-26    Aquitaine                        0   \n",
       "4    2020-02-02    Aquitaine                        0   \n",
       "..          ...          ...                      ...   \n",
       "515  2021-11-28  Rhone-Alpes                        0   \n",
       "516  2021-12-05  Rhone-Alpes                        0   \n",
       "517  2021-12-12  Rhone-Alpes                        0   \n",
       "518  2021-12-19  Rhone-Alpes                       27   \n",
       "519  2021-12-26  Rhone-Alpes                        0   \n",
       "\n",
       "     occurrence du mot Moustique  Revenu Moyen  \n",
       "0                              0          2134  \n",
       "1                              4          2134  \n",
       "2                              0          2134  \n",
       "3                              9          2134  \n",
       "4                              0          2134  \n",
       "..                           ...           ...  \n",
       "515                            2          2606  \n",
       "516                            0          2606  \n",
       "517                            2          2606  \n",
       "518                            0          2606  \n",
       "519                            5          2606  \n",
       "\n",
       "[520 rows x 5 columns]"
      ]
     },
     "execution_count": 61,
     "metadata": {},
     "output_type": "execute_result"
    }
   ],
   "source": [
    "DF3"
   ]
  },
  {
   "cell_type": "code",
   "execution_count": 62,
   "id": "fadab718-b6a8-436b-b982-b7cb97194b2c",
   "metadata": {},
   "outputs": [],
   "source": [
    "def fill_in_missing_dates(df, date_col_name ,date_order , fill_value  , days_back ):\n",
    "\n",
    "    df.set_index(date_col_name,drop=True,inplace=True)\n",
    "    df.index = pd.DatetimeIndex(df.index)\n",
    "    d = datetime.now().date()\n",
    "    d2 = d - timedelta(days = days_back)\n",
    "    idx = pd.date_range(d2, d, freq = \"D\")\n",
    "    df = df.reindex(idx,fill_value=fill_value)\n",
    "    df[date_col_name] = pd.DatetimeIndex(df.index)\n",
    "\n",
    "    return df"
   ]
  },
  {
   "cell_type": "code",
   "execution_count": 63,
   "id": "a4cd6d46-eb2e-4bca-b842-3795a7346ebe",
   "metadata": {},
   "outputs": [
    {
     "data": {
      "text/plain": [
       "0     2020-01-05\n",
       "1     2020-01-12\n",
       "2     2020-01-19\n",
       "3     2020-01-26\n",
       "4     2020-02-02\n",
       "         ...    \n",
       "515   2021-11-28\n",
       "516   2021-12-05\n",
       "517   2021-12-12\n",
       "518   2021-12-19\n",
       "519   2021-12-26\n",
       "Name: Date, Length: 520, dtype: datetime64[ns]"
      ]
     },
     "execution_count": 63,
     "metadata": {},
     "output_type": "execute_result"
    }
   ],
   "source": [
    "DF3['Date'].apply(lambda x: x.replace('-',' ').replace(' ',' ')).astype('datetime64')\n",
    "#Test=fill_in_missing_dates(DF3, date_col_name='Date', date_order = 'asc', fill_value = 0, days_back = 30)"
   ]
  },
  {
   "cell_type": "code",
   "execution_count": 64,
   "id": "291960e4-0eea-4adf-ad2a-27051fbd16a0",
   "metadata": {},
   "outputs": [
    {
     "data": {
      "text/plain": [
       "<bound method DataFrame.drop_duplicates of            Date       Region  occurrence du mot Qista  \\\n",
       "0    2020-01-05    Aquitaine                        0   \n",
       "1    2020-01-12    Aquitaine                        0   \n",
       "2    2020-01-19    Aquitaine                        0   \n",
       "3    2020-01-26    Aquitaine                        0   \n",
       "4    2020-02-02    Aquitaine                        0   \n",
       "..          ...          ...                      ...   \n",
       "515  2021-11-28  Rhone-Alpes                        0   \n",
       "516  2021-12-05  Rhone-Alpes                        0   \n",
       "517  2021-12-12  Rhone-Alpes                        0   \n",
       "518  2021-12-19  Rhone-Alpes                       27   \n",
       "519  2021-12-26  Rhone-Alpes                        0   \n",
       "\n",
       "     occurrence du mot Moustique  Revenu Moyen  \n",
       "0                              0          2134  \n",
       "1                              4          2134  \n",
       "2                              0          2134  \n",
       "3                              9          2134  \n",
       "4                              0          2134  \n",
       "..                           ...           ...  \n",
       "515                            2          2606  \n",
       "516                            0          2606  \n",
       "517                            2          2606  \n",
       "518                            0          2606  \n",
       "519                            5          2606  \n",
       "\n",
       "[520 rows x 5 columns]>"
      ]
     },
     "execution_count": 64,
     "metadata": {},
     "output_type": "execute_result"
    }
   ],
   "source": [
    "DF3.drop_duplicates"
   ]
  },
  {
   "cell_type": "code",
   "execution_count": 65,
   "id": "8ae294e8-f89b-467b-abb4-2fa4aa57d74f",
   "metadata": {},
   "outputs": [
    {
     "data": {
      "text/html": [
       "<div>\n",
       "<style scoped>\n",
       "    .dataframe tbody tr th:only-of-type {\n",
       "        vertical-align: middle;\n",
       "    }\n",
       "\n",
       "    .dataframe tbody tr th {\n",
       "        vertical-align: top;\n",
       "    }\n",
       "\n",
       "    .dataframe thead th {\n",
       "        text-align: right;\n",
       "    }\n",
       "</style>\n",
       "<table border=\"1\" class=\"dataframe\">\n",
       "  <thead>\n",
       "    <tr style=\"text-align: right;\">\n",
       "      <th></th>\n",
       "      <th>Date</th>\n",
       "      <th>Region</th>\n",
       "      <th>occurrence du mot Qista</th>\n",
       "      <th>occurrence du mot Moustique</th>\n",
       "      <th>Revenu Moyen</th>\n",
       "    </tr>\n",
       "  </thead>\n",
       "  <tbody>\n",
       "  </tbody>\n",
       "</table>\n",
       "</div>"
      ],
      "text/plain": [
       "Empty DataFrame\n",
       "Columns: [Date, Region, occurrence du mot Qista, occurrence du mot Moustique, Revenu Moyen]\n",
       "Index: []"
      ]
     },
     "execution_count": 65,
     "metadata": {},
     "output_type": "execute_result"
    }
   ],
   "source": [
    "DF3[DF3.index.duplicated()]"
   ]
  },
  {
   "cell_type": "code",
   "execution_count": 66,
   "id": "5fabc6e7-96ab-4cc3-aa5a-3dda163ab7ce",
   "metadata": {},
   "outputs": [
    {
     "ename": "TypeError",
     "evalue": "Index(...) must be called with a collection of some kind, 'index' was passed",
     "output_type": "error",
     "traceback": [
      "\u001b[1;31m---------------------------------------------------------------------------\u001b[0m",
      "\u001b[1;31mTypeError\u001b[0m                                 Traceback (most recent call last)",
      "\u001b[1;32m~\\AppData\\Local\\Temp/ipykernel_62276/2164145340.py\u001b[0m in \u001b[0;36m<module>\u001b[1;34m\u001b[0m\n\u001b[0;32m      1\u001b[0m \u001b[0mr\u001b[0m\u001b[1;33m=\u001b[0m\u001b[0mpd\u001b[0m\u001b[1;33m.\u001b[0m\u001b[0mdate_range\u001b[0m\u001b[1;33m(\u001b[0m\u001b[0mstart\u001b[0m\u001b[1;33m=\u001b[0m\u001b[0mDF3\u001b[0m\u001b[1;33m.\u001b[0m\u001b[0mDate\u001b[0m\u001b[1;33m.\u001b[0m\u001b[0mmin\u001b[0m\u001b[1;33m(\u001b[0m\u001b[1;33m)\u001b[0m\u001b[1;33m,\u001b[0m \u001b[0mend\u001b[0m\u001b[1;33m=\u001b[0m\u001b[0mDF3\u001b[0m\u001b[1;33m.\u001b[0m\u001b[0mDate\u001b[0m\u001b[1;33m.\u001b[0m\u001b[0mmax\u001b[0m\u001b[1;33m(\u001b[0m\u001b[1;33m)\u001b[0m\u001b[1;33m)\u001b[0m\u001b[1;33m\u001b[0m\u001b[1;33m\u001b[0m\u001b[0m\n\u001b[1;32m----> 2\u001b[1;33m \u001b[0mDF3\u001b[0m\u001b[1;33m.\u001b[0m\u001b[0mset_index\u001b[0m\u001b[1;33m(\u001b[0m\u001b[1;34m'Date'\u001b[0m\u001b[1;33m)\u001b[0m\u001b[1;33m.\u001b[0m\u001b[0mreindex\u001b[0m\u001b[1;33m(\u001b[0m\u001b[1;34m'index'\u001b[0m\u001b[1;33m)\u001b[0m\u001b[1;33m.\u001b[0m\u001b[0mfillna\u001b[0m\u001b[1;33m(\u001b[0m\u001b[1;36m0.0\u001b[0m\u001b[1;33m)\u001b[0m\u001b[1;33m.\u001b[0m\u001b[0mrename_axis\u001b[0m\u001b[1;33m(\u001b[0m\u001b[1;34m'Date'\u001b[0m\u001b[1;33m)\u001b[0m\u001b[1;33m.\u001b[0m\u001b[0mreset_index\u001b[0m\u001b[1;33m(\u001b[0m\u001b[1;33m)\u001b[0m\u001b[1;33m\u001b[0m\u001b[1;33m\u001b[0m\u001b[0m\n\u001b[0m\u001b[0;32m      3\u001b[0m \u001b[0mDF3\u001b[0m\u001b[1;33m.\u001b[0m\u001b[0mcolumns\u001b[0m\u001b[1;33m\u001b[0m\u001b[1;33m\u001b[0m\u001b[0m\n",
      "\u001b[1;32m~\\anaconda3\\lib\\site-packages\\pandas\\util\\_decorators.py\u001b[0m in \u001b[0;36mwrapper\u001b[1;34m(*args, **kwargs)\u001b[0m\n\u001b[0;32m    322\u001b[0m         \u001b[1;33m@\u001b[0m\u001b[0mwraps\u001b[0m\u001b[1;33m(\u001b[0m\u001b[0mfunc\u001b[0m\u001b[1;33m)\u001b[0m\u001b[1;33m\u001b[0m\u001b[1;33m\u001b[0m\u001b[0m\n\u001b[0;32m    323\u001b[0m         \u001b[1;32mdef\u001b[0m \u001b[0mwrapper\u001b[0m\u001b[1;33m(\u001b[0m\u001b[1;33m*\u001b[0m\u001b[0margs\u001b[0m\u001b[1;33m,\u001b[0m \u001b[1;33m**\u001b[0m\u001b[0mkwargs\u001b[0m\u001b[1;33m)\u001b[0m \u001b[1;33m->\u001b[0m \u001b[0mCallable\u001b[0m\u001b[1;33m[\u001b[0m\u001b[1;33m...\u001b[0m\u001b[1;33m,\u001b[0m \u001b[0mAny\u001b[0m\u001b[1;33m]\u001b[0m\u001b[1;33m:\u001b[0m\u001b[1;33m\u001b[0m\u001b[1;33m\u001b[0m\u001b[0m\n\u001b[1;32m--> 324\u001b[1;33m             \u001b[1;32mreturn\u001b[0m \u001b[0mfunc\u001b[0m\u001b[1;33m(\u001b[0m\u001b[1;33m*\u001b[0m\u001b[0margs\u001b[0m\u001b[1;33m,\u001b[0m \u001b[1;33m**\u001b[0m\u001b[0mkwargs\u001b[0m\u001b[1;33m)\u001b[0m\u001b[1;33m\u001b[0m\u001b[1;33m\u001b[0m\u001b[0m\n\u001b[0m\u001b[0;32m    325\u001b[0m \u001b[1;33m\u001b[0m\u001b[0m\n\u001b[0;32m    326\u001b[0m         \u001b[0mkind\u001b[0m \u001b[1;33m=\u001b[0m \u001b[0minspect\u001b[0m\u001b[1;33m.\u001b[0m\u001b[0mParameter\u001b[0m\u001b[1;33m.\u001b[0m\u001b[0mPOSITIONAL_OR_KEYWORD\u001b[0m\u001b[1;33m\u001b[0m\u001b[1;33m\u001b[0m\u001b[0m\n",
      "\u001b[1;32m~\\anaconda3\\lib\\site-packages\\pandas\\core\\frame.py\u001b[0m in \u001b[0;36mreindex\u001b[1;34m(self, *args, **kwargs)\u001b[0m\n\u001b[0;32m   4770\u001b[0m         \u001b[0mkwargs\u001b[0m\u001b[1;33m.\u001b[0m\u001b[0mpop\u001b[0m\u001b[1;33m(\u001b[0m\u001b[1;34m\"axis\"\u001b[0m\u001b[1;33m,\u001b[0m \u001b[1;32mNone\u001b[0m\u001b[1;33m)\u001b[0m\u001b[1;33m\u001b[0m\u001b[1;33m\u001b[0m\u001b[0m\n\u001b[0;32m   4771\u001b[0m         \u001b[0mkwargs\u001b[0m\u001b[1;33m.\u001b[0m\u001b[0mpop\u001b[0m\u001b[1;33m(\u001b[0m\u001b[1;34m\"labels\"\u001b[0m\u001b[1;33m,\u001b[0m \u001b[1;32mNone\u001b[0m\u001b[1;33m)\u001b[0m\u001b[1;33m\u001b[0m\u001b[1;33m\u001b[0m\u001b[0m\n\u001b[1;32m-> 4772\u001b[1;33m         \u001b[1;32mreturn\u001b[0m \u001b[0msuper\u001b[0m\u001b[1;33m(\u001b[0m\u001b[1;33m)\u001b[0m\u001b[1;33m.\u001b[0m\u001b[0mreindex\u001b[0m\u001b[1;33m(\u001b[0m\u001b[1;33m**\u001b[0m\u001b[0mkwargs\u001b[0m\u001b[1;33m)\u001b[0m\u001b[1;33m\u001b[0m\u001b[1;33m\u001b[0m\u001b[0m\n\u001b[0m\u001b[0;32m   4773\u001b[0m \u001b[1;33m\u001b[0m\u001b[0m\n\u001b[0;32m   4774\u001b[0m     \u001b[1;33m@\u001b[0m\u001b[0mdeprecate_nonkeyword_arguments\u001b[0m\u001b[1;33m(\u001b[0m\u001b[0mversion\u001b[0m\u001b[1;33m=\u001b[0m\u001b[1;32mNone\u001b[0m\u001b[1;33m,\u001b[0m \u001b[0mallowed_args\u001b[0m\u001b[1;33m=\u001b[0m\u001b[1;33m[\u001b[0m\u001b[1;34m\"self\"\u001b[0m\u001b[1;33m,\u001b[0m \u001b[1;34m\"labels\"\u001b[0m\u001b[1;33m]\u001b[0m\u001b[1;33m)\u001b[0m\u001b[1;33m\u001b[0m\u001b[1;33m\u001b[0m\u001b[0m\n",
      "\u001b[1;32m~\\anaconda3\\lib\\site-packages\\pandas\\core\\generic.py\u001b[0m in \u001b[0;36mreindex\u001b[1;34m(self, *args, **kwargs)\u001b[0m\n\u001b[0;32m   4816\u001b[0m \u001b[1;33m\u001b[0m\u001b[0m\n\u001b[0;32m   4817\u001b[0m         \u001b[1;31m# perform the reindex on the axes\u001b[0m\u001b[1;33m\u001b[0m\u001b[1;33m\u001b[0m\u001b[0m\n\u001b[1;32m-> 4818\u001b[1;33m         return self._reindex_axes(\n\u001b[0m\u001b[0;32m   4819\u001b[0m             \u001b[0maxes\u001b[0m\u001b[1;33m,\u001b[0m \u001b[0mlevel\u001b[0m\u001b[1;33m,\u001b[0m \u001b[0mlimit\u001b[0m\u001b[1;33m,\u001b[0m \u001b[0mtolerance\u001b[0m\u001b[1;33m,\u001b[0m \u001b[0mmethod\u001b[0m\u001b[1;33m,\u001b[0m \u001b[0mfill_value\u001b[0m\u001b[1;33m,\u001b[0m \u001b[0mcopy\u001b[0m\u001b[1;33m\u001b[0m\u001b[1;33m\u001b[0m\u001b[0m\n\u001b[0;32m   4820\u001b[0m         ).__finalize__(self, method=\"reindex\")\n",
      "\u001b[1;32m~\\anaconda3\\lib\\site-packages\\pandas\\core\\frame.py\u001b[0m in \u001b[0;36m_reindex_axes\u001b[1;34m(self, axes, level, limit, tolerance, method, fill_value, copy)\u001b[0m\n\u001b[0;32m   4595\u001b[0m         \u001b[0mindex\u001b[0m \u001b[1;33m=\u001b[0m \u001b[0maxes\u001b[0m\u001b[1;33m[\u001b[0m\u001b[1;34m\"index\"\u001b[0m\u001b[1;33m]\u001b[0m\u001b[1;33m\u001b[0m\u001b[1;33m\u001b[0m\u001b[0m\n\u001b[0;32m   4596\u001b[0m         \u001b[1;32mif\u001b[0m \u001b[0mindex\u001b[0m \u001b[1;32mis\u001b[0m \u001b[1;32mnot\u001b[0m \u001b[1;32mNone\u001b[0m\u001b[1;33m:\u001b[0m\u001b[1;33m\u001b[0m\u001b[1;33m\u001b[0m\u001b[0m\n\u001b[1;32m-> 4597\u001b[1;33m             frame = frame._reindex_index(\n\u001b[0m\u001b[0;32m   4598\u001b[0m                 \u001b[0mindex\u001b[0m\u001b[1;33m,\u001b[0m \u001b[0mmethod\u001b[0m\u001b[1;33m,\u001b[0m \u001b[0mcopy\u001b[0m\u001b[1;33m,\u001b[0m \u001b[0mlevel\u001b[0m\u001b[1;33m,\u001b[0m \u001b[0mfill_value\u001b[0m\u001b[1;33m,\u001b[0m \u001b[0mlimit\u001b[0m\u001b[1;33m,\u001b[0m \u001b[0mtolerance\u001b[0m\u001b[1;33m\u001b[0m\u001b[1;33m\u001b[0m\u001b[0m\n\u001b[0;32m   4599\u001b[0m             )\n",
      "\u001b[1;32m~\\anaconda3\\lib\\site-packages\\pandas\\core\\frame.py\u001b[0m in \u001b[0;36m_reindex_index\u001b[1;34m(self, new_index, method, copy, level, fill_value, limit, tolerance)\u001b[0m\n\u001b[0;32m   4611\u001b[0m         \u001b[0mtolerance\u001b[0m\u001b[1;33m=\u001b[0m\u001b[1;32mNone\u001b[0m\u001b[1;33m,\u001b[0m\u001b[1;33m\u001b[0m\u001b[1;33m\u001b[0m\u001b[0m\n\u001b[0;32m   4612\u001b[0m     ):\n\u001b[1;32m-> 4613\u001b[1;33m         new_index, indexer = self.index.reindex(\n\u001b[0m\u001b[0;32m   4614\u001b[0m             \u001b[0mnew_index\u001b[0m\u001b[1;33m,\u001b[0m \u001b[0mmethod\u001b[0m\u001b[1;33m=\u001b[0m\u001b[0mmethod\u001b[0m\u001b[1;33m,\u001b[0m \u001b[0mlevel\u001b[0m\u001b[1;33m=\u001b[0m\u001b[0mlevel\u001b[0m\u001b[1;33m,\u001b[0m \u001b[0mlimit\u001b[0m\u001b[1;33m=\u001b[0m\u001b[0mlimit\u001b[0m\u001b[1;33m,\u001b[0m \u001b[0mtolerance\u001b[0m\u001b[1;33m=\u001b[0m\u001b[0mtolerance\u001b[0m\u001b[1;33m\u001b[0m\u001b[1;33m\u001b[0m\u001b[0m\n\u001b[0;32m   4615\u001b[0m         )\n",
      "\u001b[1;32m~\\anaconda3\\lib\\site-packages\\pandas\\core\\indexes\\base.py\u001b[0m in \u001b[0;36mreindex\u001b[1;34m(self, target, method, level, limit, tolerance)\u001b[0m\n\u001b[0;32m   3812\u001b[0m             \u001b[0mtarget\u001b[0m \u001b[1;33m=\u001b[0m \u001b[0mself\u001b[0m\u001b[1;33m[\u001b[0m\u001b[1;33m:\u001b[0m\u001b[1;36m0\u001b[0m\u001b[1;33m]\u001b[0m\u001b[1;33m\u001b[0m\u001b[1;33m\u001b[0m\u001b[0m\n\u001b[0;32m   3813\u001b[0m         \u001b[1;32melse\u001b[0m\u001b[1;33m:\u001b[0m\u001b[1;33m\u001b[0m\u001b[1;33m\u001b[0m\u001b[0m\n\u001b[1;32m-> 3814\u001b[1;33m             \u001b[0mtarget\u001b[0m \u001b[1;33m=\u001b[0m \u001b[0mensure_index\u001b[0m\u001b[1;33m(\u001b[0m\u001b[0mtarget\u001b[0m\u001b[1;33m)\u001b[0m\u001b[1;33m\u001b[0m\u001b[1;33m\u001b[0m\u001b[0m\n\u001b[0m\u001b[0;32m   3815\u001b[0m \u001b[1;33m\u001b[0m\u001b[0m\n\u001b[0;32m   3816\u001b[0m         \u001b[1;32mif\u001b[0m \u001b[0mlevel\u001b[0m \u001b[1;32mis\u001b[0m \u001b[1;32mnot\u001b[0m \u001b[1;32mNone\u001b[0m\u001b[1;33m:\u001b[0m\u001b[1;33m\u001b[0m\u001b[1;33m\u001b[0m\u001b[0m\n",
      "\u001b[1;32m~\\anaconda3\\lib\\site-packages\\pandas\\core\\indexes\\base.py\u001b[0m in \u001b[0;36mensure_index\u001b[1;34m(index_like, copy)\u001b[0m\n\u001b[0;32m   6334\u001b[0m     \u001b[1;32melse\u001b[0m\u001b[1;33m:\u001b[0m\u001b[1;33m\u001b[0m\u001b[1;33m\u001b[0m\u001b[0m\n\u001b[0;32m   6335\u001b[0m \u001b[1;33m\u001b[0m\u001b[0m\n\u001b[1;32m-> 6336\u001b[1;33m         \u001b[1;32mreturn\u001b[0m \u001b[0mIndex\u001b[0m\u001b[1;33m(\u001b[0m\u001b[0mindex_like\u001b[0m\u001b[1;33m,\u001b[0m \u001b[0mcopy\u001b[0m\u001b[1;33m=\u001b[0m\u001b[0mcopy\u001b[0m\u001b[1;33m)\u001b[0m\u001b[1;33m\u001b[0m\u001b[1;33m\u001b[0m\u001b[0m\n\u001b[0m\u001b[0;32m   6337\u001b[0m \u001b[1;33m\u001b[0m\u001b[0m\n\u001b[0;32m   6338\u001b[0m \u001b[1;33m\u001b[0m\u001b[0m\n",
      "\u001b[1;32m~\\anaconda3\\lib\\site-packages\\pandas\\core\\indexes\\base.py\u001b[0m in \u001b[0;36m__new__\u001b[1;34m(cls, data, dtype, copy, name, tupleize_cols, **kwargs)\u001b[0m\n\u001b[0;32m    472\u001b[0m \u001b[1;33m\u001b[0m\u001b[0m\n\u001b[0;32m    473\u001b[0m         \u001b[1;32melif\u001b[0m \u001b[0mis_scalar\u001b[0m\u001b[1;33m(\u001b[0m\u001b[0mdata\u001b[0m\u001b[1;33m)\u001b[0m\u001b[1;33m:\u001b[0m\u001b[1;33m\u001b[0m\u001b[1;33m\u001b[0m\u001b[0m\n\u001b[1;32m--> 474\u001b[1;33m             \u001b[1;32mraise\u001b[0m \u001b[0mcls\u001b[0m\u001b[1;33m.\u001b[0m\u001b[0m_scalar_data_error\u001b[0m\u001b[1;33m(\u001b[0m\u001b[0mdata\u001b[0m\u001b[1;33m)\u001b[0m\u001b[1;33m\u001b[0m\u001b[1;33m\u001b[0m\u001b[0m\n\u001b[0m\u001b[0;32m    475\u001b[0m         \u001b[1;32melif\u001b[0m \u001b[0mhasattr\u001b[0m\u001b[1;33m(\u001b[0m\u001b[0mdata\u001b[0m\u001b[1;33m,\u001b[0m \u001b[1;34m\"__array__\"\u001b[0m\u001b[1;33m)\u001b[0m\u001b[1;33m:\u001b[0m\u001b[1;33m\u001b[0m\u001b[1;33m\u001b[0m\u001b[0m\n\u001b[0;32m    476\u001b[0m             \u001b[1;32mreturn\u001b[0m \u001b[0mIndex\u001b[0m\u001b[1;33m(\u001b[0m\u001b[0mnp\u001b[0m\u001b[1;33m.\u001b[0m\u001b[0masarray\u001b[0m\u001b[1;33m(\u001b[0m\u001b[0mdata\u001b[0m\u001b[1;33m)\u001b[0m\u001b[1;33m,\u001b[0m \u001b[0mdtype\u001b[0m\u001b[1;33m=\u001b[0m\u001b[0mdtype\u001b[0m\u001b[1;33m,\u001b[0m \u001b[0mcopy\u001b[0m\u001b[1;33m=\u001b[0m\u001b[0mcopy\u001b[0m\u001b[1;33m,\u001b[0m \u001b[0mname\u001b[0m\u001b[1;33m=\u001b[0m\u001b[0mname\u001b[0m\u001b[1;33m,\u001b[0m \u001b[1;33m**\u001b[0m\u001b[0mkwargs\u001b[0m\u001b[1;33m)\u001b[0m\u001b[1;33m\u001b[0m\u001b[1;33m\u001b[0m\u001b[0m\n",
      "\u001b[1;31mTypeError\u001b[0m: Index(...) must be called with a collection of some kind, 'index' was passed"
     ]
    }
   ],
   "source": [
    "r=pd.date_range(start=DF3.Date.min(), end=DF3.Date.max())\n",
    "DF3.set_index('Date').reindex('index').fillna(0.0).rename_axis('Date').reset_index()\n",
    "DF3.columns"
   ]
  },
  {
   "cell_type": "code",
   "execution_count": null,
   "id": "7fceee56-e609-4776-b409-a437c54f1df8",
   "metadata": {},
   "outputs": [],
   "source": [
    "DF3"
   ]
  },
  {
   "cell_type": "code",
   "execution_count": null,
   "id": "52ab43d4-ff04-420b-bc76-dd789e36d3bc",
   "metadata": {},
   "outputs": [],
   "source": [
    "DF3=DF3.fillna(0)"
   ]
  },
  {
   "cell_type": "code",
   "execution_count": null,
   "id": "3e9e9c49-78b7-4a49-a188-abaa96f4f66b",
   "metadata": {},
   "outputs": [],
   "source": [
    "V_vertes=pd.read_csv('Data/VillesVertes.csv')"
   ]
  },
  {
   "cell_type": "code",
   "execution_count": null,
   "id": "77a7ad4c-1e02-4ca3-99b6-5ef9fa5cd61a",
   "metadata": {},
   "outputs": [],
   "source": [
    "DF3=pd.merge(V_vertes,DF3, on='Region')"
   ]
  },
  {
   "cell_type": "code",
   "execution_count": null,
   "id": "592322a8-5a58-4138-b55b-72784b873f5d",
   "metadata": {},
   "outputs": [],
   "source": [
    "DF3"
   ]
  },
  {
   "cell_type": "code",
   "execution_count": null,
   "id": "82b35e94-64a0-4b38-ab82-7cbefdcbba6c",
   "metadata": {},
   "outputs": [],
   "source": [
    "DF3.head(25) #PARFAIT"
   ]
  },
  {
   "cell_type": "code",
   "execution_count": null,
   "id": "518f7f6a-92ed-45fd-883f-7f20251b0505",
   "metadata": {},
   "outputs": [],
   "source": [
    "DF3=DF3.set_index('Date')"
   ]
  },
  {
   "cell_type": "code",
   "execution_count": null,
   "id": "e6b815d1-2638-4676-896a-d295d2d81dcc",
   "metadata": {},
   "outputs": [],
   "source": [
    "DF3"
   ]
  },
  {
   "cell_type": "code",
   "execution_count": null,
   "id": "52ab7883-8e31-4084-97d3-26ba7f0a8b66",
   "metadata": {},
   "outputs": [],
   "source": [
    "idx=pd.date_range(start=\"2020-01-01\", end=\"2021-12-31\")"
   ]
  },
  {
   "cell_type": "code",
   "execution_count": null,
   "id": "5cef58cf-b671-42fc-9d6f-f03ea388078e",
   "metadata": {},
   "outputs": [],
   "source": [
    "DF3.index=pd.to_datetime(DF3.index)"
   ]
  },
  {
   "cell_type": "code",
   "execution_count": null,
   "id": "78b9be87-afc2-433f-bf87-e03c1749c777",
   "metadata": {},
   "outputs": [],
   "source": [
    "#DF3T=DF3.reindex(idx, fill_value=0)"
   ]
  },
  {
   "cell_type": "code",
   "execution_count": null,
   "id": "f0b95a78-0066-4e4d-ada3-4d19898ce235",
   "metadata": {},
   "outputs": [],
   "source": [
    "DF3.columns"
   ]
  },
  {
   "cell_type": "code",
   "execution_count": null,
   "id": "b688f07f-329a-4a0f-9215-d799d2d65d05",
   "metadata": {},
   "outputs": [],
   "source": [
    "DF3"
   ]
  },
  {
   "cell_type": "code",
   "execution_count": null,
   "id": "88118780-e5bc-4d89-8e65-0de8efa2562b",
   "metadata": {},
   "outputs": [],
   "source": [
    "DF3[\"Region\"]==\"Occitanie\""
   ]
  },
  {
   "cell_type": "code",
   "execution_count": null,
   "id": "e7cb2e63-c4a1-4fd3-b5ff-38ae3729b0ce",
   "metadata": {},
   "outputs": [],
   "source": [
    "Occi=DF3[DF3[\"Region\"]==\"Occitanie\"]"
   ]
  },
  {
   "cell_type": "code",
   "execution_count": null,
   "id": "822236ef-d692-40b2-a606-b7523531936b",
   "metadata": {},
   "outputs": [],
   "source": [
    "PACA=DF3[DF3[\"Region\"]==\"Provence-Alpes-Cote d'Azur\"]"
   ]
  },
  {
   "cell_type": "code",
   "execution_count": null,
   "id": "dd2b9006-5798-4795-ba20-3793387fe042",
   "metadata": {},
   "outputs": [],
   "source": [
    "Aqui=DF3[DF3[\"Region\"]==\"Aquitaine\"]"
   ]
  },
  {
   "cell_type": "code",
   "execution_count": null,
   "id": "1acff09e-4642-4644-8d74-50918df3a0dc",
   "metadata": {},
   "outputs": [],
   "source": [
    "IDF=DF3[DF3[\"Region\"]==\"Ile-de-France\"]"
   ]
  },
  {
   "cell_type": "code",
   "execution_count": null,
   "id": "1fe054bf-d573-4d60-913f-2bb112a0e68f",
   "metadata": {},
   "outputs": [],
   "source": [
    "RA=DF3[DF3[\"Region\"]==\"Rhone-Alpes\"]"
   ]
  },
  {
   "cell_type": "code",
   "execution_count": null,
   "id": "0f07617d-03a9-4ee9-978b-b405975447d2",
   "metadata": {},
   "outputs": [],
   "source": [
    "Aqui"
   ]
  },
  {
   "cell_type": "code",
   "execution_count": null,
   "id": "4a5d5805-82d2-4302-8e48-38b2e1736bf7",
   "metadata": {},
   "outputs": [],
   "source": [
    "Aqui.index"
   ]
  },
  {
   "cell_type": "code",
   "execution_count": null,
   "id": "2412a6bf-7165-4312-9349-05165851c3e2",
   "metadata": {},
   "outputs": [],
   "source": [
    "idx=pd.date_range(start=\"2020-01-01\", end=\"2021-12-31\")"
   ]
  },
  {
   "cell_type": "code",
   "execution_count": null,
   "id": "5f66c2fa-da09-41c7-b673-d930acae59a2",
   "metadata": {},
   "outputs": [],
   "source": [
    "Aqui=Aqui.reindex(idx, fill_value=0)"
   ]
  },
  {
   "cell_type": "code",
   "execution_count": null,
   "id": "8c087417-4f71-4e97-824f-fe7bb919602e",
   "metadata": {},
   "outputs": [],
   "source": [
    "for i in Aqui:\n",
    "    Aqui['Region']=\"Aquitaine\"\n",
    "    Aqui['Revenu Moyen']=2134\n",
    "    Aqui['facteur villes vertes']=0.9"
   ]
  },
  {
   "cell_type": "code",
   "execution_count": null,
   "id": "8c74b948-4081-42f7-82ec-8ace73f04623",
   "metadata": {},
   "outputs": [],
   "source": [
    "Occi=Occi.reindex(idx, fill_value=0)"
   ]
  },
  {
   "cell_type": "code",
   "execution_count": null,
   "id": "53479f13-6f1f-4d3e-b86f-50020788e169",
   "metadata": {},
   "outputs": [],
   "source": [
    "for i in Occi:\n",
    "    Occi['Region']=\"Occitanie\"\n",
    "    Occi['Revenu Moyen']=2069\n",
    "    Occi['facteur villes vertes']=0.7"
   ]
  },
  {
   "cell_type": "code",
   "execution_count": null,
   "id": "c715c3c3-e161-44f2-9b85-189856513b1c",
   "metadata": {},
   "outputs": [],
   "source": [
    "IDF=IDF.reindex(idx, fill_value=0)"
   ]
  },
  {
   "cell_type": "code",
   "execution_count": null,
   "id": "e3d7d6f3-52c0-4bcf-8006-3dac8996693e",
   "metadata": {},
   "outputs": [],
   "source": [
    "for i in IDF: \n",
    "    IDF['Region']=\"Ile-de-France\"\n",
    "    IDF['Revenu Moyen']=2741\n",
    "    IDF['facteur villes vertes']=0.7"
   ]
  },
  {
   "cell_type": "code",
   "execution_count": null,
   "id": "b38afb5d-2d09-4d0c-8a5c-9760d0fd144a",
   "metadata": {},
   "outputs": [],
   "source": [
    "RA=RA.reindex(idx, fill_value=0)"
   ]
  },
  {
   "cell_type": "code",
   "execution_count": null,
   "id": "96d82c46-bb99-46eb-82ce-ff6d156e5bcd",
   "metadata": {},
   "outputs": [],
   "source": [
    "for i in RA: \n",
    "    RA['Region']=\"Rhone-Alpes\"\n",
    "    RA['Revenu Moyen']=2606\n",
    "    RA['facteur villes vertes']=0.4"
   ]
  },
  {
   "cell_type": "code",
   "execution_count": null,
   "id": "ef4d141a-9710-4c9e-9062-58768758a3b2",
   "metadata": {},
   "outputs": [],
   "source": [
    "PACA=PACA.reindex(idx, fill_value=0)"
   ]
  },
  {
   "cell_type": "code",
   "execution_count": null,
   "id": "13ed934c-6070-4d66-af2e-5a3d9266a139",
   "metadata": {},
   "outputs": [],
   "source": [
    "for i in PACA:\n",
    "    PACA['Region']=\"Provence-Alpes-Cote d'Azur\"\n",
    "    PACA['Revenu Moyen']=2306\n",
    "    PACA['facteur villes vertes']=1.0  "
   ]
  },
  {
   "cell_type": "code",
   "execution_count": null,
   "id": "2fdabd61-c275-4f45-a7b9-5ed088133f4f",
   "metadata": {},
   "outputs": [],
   "source": [
    "DF3=pd.concat([PACA,RA])"
   ]
  },
  {
   "cell_type": "code",
   "execution_count": null,
   "id": "5e96aef9-d599-4502-a75d-8ad791fb69fc",
   "metadata": {},
   "outputs": [],
   "source": [
    "DF3=pd.concat([DF3,IDF])"
   ]
  },
  {
   "cell_type": "code",
   "execution_count": null,
   "id": "e781910d-7fef-46f8-924a-cb407263af77",
   "metadata": {},
   "outputs": [],
   "source": [
    "DF3=pd.concat([DF3,Occi])"
   ]
  },
  {
   "cell_type": "code",
   "execution_count": null,
   "id": "b207f1e5-b95b-43d7-be58-84b8398c8593",
   "metadata": {},
   "outputs": [],
   "source": [
    "DF3=pd.concat([DF3,Aqui])"
   ]
  },
  {
   "cell_type": "code",
   "execution_count": null,
   "id": "9b52a12d-7490-4184-85d1-551f71ea90b5",
   "metadata": {},
   "outputs": [],
   "source": [
    "DF3"
   ]
  },
  {
   "cell_type": "code",
   "execution_count": null,
   "id": "d80a5173-2dc6-456e-a18d-05edae17a147",
   "metadata": {},
   "outputs": [],
   "source": [
    "DF3.plot()\n",
    "plt.show()"
   ]
  },
  {
   "cell_type": "code",
   "execution_count": null,
   "id": "97dd5995-6673-49ce-b945-6fa92aec4c35",
   "metadata": {},
   "outputs": [],
   "source": [
    "DF3.to_csv('Data/Dataframe.csv')"
   ]
  },
  {
   "cell_type": "code",
   "execution_count": null,
   "id": "4b9fc97c-41c2-4046-b85c-00ebc86526b2",
   "metadata": {},
   "outputs": [],
   "source": [
    "DF3.plot.scatter(x=\"Region\", y=\"occurrence du mot Qista\", alpha=1)\n",
    "#<AxesSubplot:xlabel='Region', ylabel='Occurrence du mot Qista'>"
   ]
  },
  {
   "cell_type": "code",
   "execution_count": null,
   "id": "095e7645-14e6-45da-b55a-3b651deedb5a",
   "metadata": {},
   "outputs": [],
   "source": [
    "axs = DF3.plot.area(figsize=(20, 10), subplots=True)"
   ]
  },
  {
   "cell_type": "code",
   "execution_count": null,
   "id": "c428239f-9591-4617-95e7-485ec745622c",
   "metadata": {},
   "outputs": [],
   "source": [
    "DataSetFinal=pd.read_csv('Data/FinalDataset.csv')"
   ]
  },
  {
   "cell_type": "code",
   "execution_count": null,
   "id": "087afa1f-4a18-4a8d-a094-d63e4567de9a",
   "metadata": {},
   "outputs": [],
   "source": []
  }
 ],
 "metadata": {
  "kernelspec": {
   "display_name": "Python 3 (ipykernel)",
   "language": "python",
   "name": "python3"
  },
  "language_info": {
   "codemirror_mode": {
    "name": "ipython",
    "version": 3
   },
   "file_extension": ".py",
   "mimetype": "text/x-python",
   "name": "python",
   "nbconvert_exporter": "python",
   "pygments_lexer": "ipython3",
   "version": "3.9.7"
  }
 },
 "nbformat": 4,
 "nbformat_minor": 5
}
